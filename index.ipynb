{
 "cells": [
  {
   "cell_type": "code",
   "execution_count": null,
   "metadata": {},
   "outputs": [],
   "source": [
    "from paynow import Paynow\n",
    "paynow = Paynow(\n",
    "    '4198', \n",
    "    '5c74798d-f9b0-42e0-9a61-a48138a7189c',\n",
    "    'https://www.google.com', \n",
    "    'httpw://www.google.com'\n",
    ")\n",
    "payment = paynow.create_payment('Order #100', 'test@example.com')\n",
    "\n",
    "# Passing in the name of the item and the price of the item\n",
    "payment.add('Bananas', 2.50)\n",
    "payment.add('Apples', 3.40)\n",
    "\n",
    "# Save the response from paynow in a variable\n",
    "response = paynow.send(payment)\n",
    "\n",
    "if response.success:\n",
    "\n",
    "    # Get the link to redirect the user to, then use it as you see fit\n",
    "    link = response.redirect_url\n",
    "\n",
    "    # Get the poll url (used to check the status of a transaction). You might want to save this in your DB\n",
    "    pollUrl = response.poll_url\n",
    "    \n",
    "print('Redirect URL: ' + link + '\\n' + 'Poll URL: ' + pollUrl)"
   ]
  }
 ],
 "metadata": {
  "kernelspec": {
   "display_name": "Python 3",
   "language": "python",
   "name": "python3"
  },
  "language_info": {
   "codemirror_mode": {
    "name": "ipython",
    "version": 3
   },
   "file_extension": ".py",
   "mimetype": "text/x-python",
   "name": "python",
   "nbconvert_exporter": "python",
   "pygments_lexer": "ipython3",
   "version": "3.6.6"
  }
 },
 "nbformat": 4,
 "nbformat_minor": 2
}
